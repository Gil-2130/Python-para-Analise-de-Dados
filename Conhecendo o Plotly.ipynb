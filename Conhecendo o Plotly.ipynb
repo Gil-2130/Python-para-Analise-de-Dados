{
 "cells": [
  {
   "cell_type": "markdown",
   "id": "2ee7ca4e",
   "metadata": {},
   "source": [
    "# Visualização de Dados com Plotly\n",
    "\n",
    "## Conhecendo o Plotly\n",
    "\n",
    "### Configurando o Plotly dentro do Jupyter"
   ]
  },
  {
   "cell_type": "code",
   "execution_count": 1,
   "id": "719ca4f4",
   "metadata": {},
   "outputs": [
    {
     "name": "stdout",
     "output_type": "stream",
     "text": [
      "Requirement already satisfied: chart_studio in e:\\anaconda3\\lib\\site-packages (1.1.0)\n",
      "Requirement already satisfied: requests in e:\\anaconda3\\lib\\site-packages (from chart_studio) (2.26.0)\n",
      "Requirement already satisfied: six in e:\\anaconda3\\lib\\site-packages (from chart_studio) (1.16.0)\n",
      "Requirement already satisfied: retrying>=1.3.3 in e:\\anaconda3\\lib\\site-packages (from chart_studio) (1.3.3)\n",
      "Requirement already satisfied: plotly in e:\\anaconda3\\lib\\site-packages (from chart_studio) (4.14.3)\n",
      "Requirement already satisfied: certifi>=2017.4.17 in e:\\anaconda3\\lib\\site-packages (from requests->chart_studio) (2021.10.8)\n",
      "Requirement already satisfied: idna<4,>=2.5 in e:\\anaconda3\\lib\\site-packages (from requests->chart_studio) (3.2)\n",
      "Requirement already satisfied: charset-normalizer~=2.0.0 in e:\\anaconda3\\lib\\site-packages (from requests->chart_studio) (2.0.4)\n",
      "Requirement already satisfied: urllib3<1.27,>=1.21.1 in e:\\anaconda3\\lib\\site-packages (from requests->chart_studio) (1.26.7)\n"
     ]
    }
   ],
   "source": [
    "# Já instalei o chart Studio, então não farei de novo.\n",
    "!pip install chart_studio"
   ]
  },
  {
   "cell_type": "code",
   "execution_count": 2,
   "id": "97a5b86d",
   "metadata": {},
   "outputs": [],
   "source": [
    "# carregando bibliotecas\n",
    "import pandas as pd\n",
    "import cufflinks as cf\n",
    "import chart_studio as chs"
   ]
  },
  {
   "cell_type": "code",
   "execution_count": 3,
   "id": "a611ce2e",
   "metadata": {},
   "outputs": [],
   "source": [
    "chs.tools.set_credentials_file(username=\"K_Gill\", api_key=\"S4XPJ5TG9JCRhNQ6C7Nb\")\n",
    "\n",
    "mtcars = pd.read_csv('mtcars.csv')\n",
    "mtcars.rename(columns = {'Unnamed: 0' : 'modelo'}, inplace = True)\n",
    "\n",
    "cols = mtcars[['cyl', 'wt', 'mpg']]"
   ]
  },
  {
   "cell_type": "markdown",
   "id": "45afd1ee",
   "metadata": {},
   "source": [
    "#### Criando um gráfico de Linhascom o DataFrame do Pandas"
   ]
  },
  {
   "cell_type": "code",
   "execution_count": 4,
   "id": "c77dd009",
   "metadata": {},
   "outputs": [],
   "source": [
    "layout = {\n",
    "    'title': 'Gráfico de um DataFrame',\n",
    "    'xaxis': {'title': 'eixo X'},\n",
    "    'yaxis': {'title': 'eixo Y'}\n",
    "}"
   ]
  },
  {
   "cell_type": "code",
   "execution_count": 5,
   "id": "93cbad0c",
   "metadata": {},
   "outputs": [
    {
     "data": {
      "text/html": [
       "\n",
       "        <iframe\n",
       "            width=\"100%\"\n",
       "            height=\"525px\"\n",
       "            src=\"https://plotly.com/~K_Gill/46.embed\"\n",
       "            frameborder=\"0\"\n",
       "            allowfullscreen\n",
       "            \n",
       "        ></iframe>\n",
       "        "
      ],
      "text/plain": [
       "<IPython.lib.display.IFrame at 0x19cff6875e0>"
      ]
     },
     "execution_count": 5,
     "metadata": {},
     "output_type": "execute_result"
    }
   ],
   "source": [
    "cols.iplot(filename = 'Grafico-de-linha', layout=layout)"
   ]
  },
  {
   "cell_type": "markdown",
   "id": "17491838",
   "metadata": {},
   "source": [
    "## Histogramas, box plots e scatter plots com Plotly"
   ]
  },
  {
   "cell_type": "code",
   "execution_count": 7,
   "id": "c8e2f42e",
   "metadata": {},
   "outputs": [],
   "source": [
    "# importando bibliotecas\n",
    "import numpy as np\n",
    "import chart_studio.plotly as chy\n",
    "from sklearn.preprocessing import StandardScaler\n",
    "\n",
    "mpg = mtcars.mpg"
   ]
  },
  {
   "cell_type": "markdown",
   "id": "74085c65",
   "metadata": {},
   "source": [
    "### Criando Histogramas"
   ]
  },
  {
   "cell_type": "code",
   "execution_count": 8,
   "id": "6fba9e10",
   "metadata": {},
   "outputs": [
    {
     "data": {
      "text/html": [
       "\n",
       "        <iframe\n",
       "            width=\"100%\"\n",
       "            height=\"525px\"\n",
       "            src=\"https://plotly.com/~K_Gill/48.embed\"\n",
       "            frameborder=\"0\"\n",
       "            allowfullscreen\n",
       "            \n",
       "        ></iframe>\n",
       "        "
      ],
      "text/plain": [
       "<IPython.lib.display.IFrame at 0x19c84a5bb80>"
      ]
     },
     "execution_count": 8,
     "metadata": {},
     "output_type": "execute_result"
    }
   ],
   "source": [
    "mpg.iplot(kind='histogram', filename='Histograma-mpg')"
   ]
  },
  {
   "cell_type": "code",
   "execution_count": 9,
   "id": "88463791",
   "metadata": {},
   "outputs": [
    {
     "data": {
      "text/html": [
       "\n",
       "        <iframe\n",
       "            width=\"100%\"\n",
       "            height=\"525px\"\n",
       "            src=\"https://plotly.com/~K_Gill/50.embed\"\n",
       "            frameborder=\"0\"\n",
       "            allowfullscreen\n",
       "            \n",
       "        ></iframe>\n",
       "        "
      ],
      "text/plain": [
       "<IPython.lib.display.IFrame at 0x19c8452f1f0>"
      ]
     },
     "execution_count": 9,
     "metadata": {},
     "output_type": "execute_result"
    }
   ],
   "source": [
    "# histograma com mais de uma variavel\n",
    "colunas = ['mpg', 'disp', 'hp']\n",
    "dados = mtcars[colunas].values\n",
    "\n",
    "dados_scaled = StandardScaler().fit_transform(dados)\n",
    "\n",
    "df = pd.DataFrame(dados_scaled)\n",
    "df.columns = colunas\n",
    "\n",
    "df.iplot(kind='histogram', filename='Histograma-Multiplot')\n",
    "\n"
   ]
  },
  {
   "cell_type": "code",
   "execution_count": 10,
   "id": "80195e60",
   "metadata": {},
   "outputs": [
    {
     "data": {
      "text/html": [
       "\n",
       "        <iframe\n",
       "            width=\"100%\"\n",
       "            height=\"525px\"\n",
       "            src=\"https://plotly.com/~K_Gill/52.embed\"\n",
       "            frameborder=\"0\"\n",
       "            allowfullscreen\n",
       "            \n",
       "        ></iframe>\n",
       "        "
      ],
      "text/plain": [
       "<IPython.lib.display.IFrame at 0x19c8510bf40>"
      ]
     },
     "execution_count": 10,
     "metadata": {},
     "output_type": "execute_result"
    }
   ],
   "source": [
    "# histogramas com subplots\n",
    "df.iplot(kind='histogram', subplots=True, filename='Histograma-Multi-Subplot')"
   ]
  },
  {
   "cell_type": "code",
   "execution_count": 12,
   "id": "aee2d9f8",
   "metadata": {},
   "outputs": [
    {
     "data": {
      "text/html": [
       "\n",
       "        <iframe\n",
       "            width=\"100%\"\n",
       "            height=\"525px\"\n",
       "            src=\"https://plotly.com/~K_Gill/54.embed\"\n",
       "            frameborder=\"0\"\n",
       "            allowfullscreen\n",
       "            \n",
       "        ></iframe>\n",
       "        "
      ],
      "text/plain": [
       "<IPython.lib.display.IFrame at 0x19c85132460>"
      ]
     },
     "execution_count": 12,
     "metadata": {},
     "output_type": "execute_result"
    }
   ],
   "source": [
    "# histograma um abaixo do outro\n",
    "df.iplot(kind='histogram', subplots=True, shape=(3,1), filename='Histograma-mult-sub-shape1')"
   ]
  },
  {
   "cell_type": "code",
   "execution_count": 13,
   "id": "8c1d6481",
   "metadata": {},
   "outputs": [
    {
     "data": {
      "text/html": [
       "\n",
       "        <iframe\n",
       "            width=\"100%\"\n",
       "            height=\"525px\"\n",
       "            src=\"https://plotly.com/~K_Gill/56.embed\"\n",
       "            frameborder=\"0\"\n",
       "            allowfullscreen\n",
       "            \n",
       "        ></iframe>\n",
       "        "
      ],
      "text/plain": [
       "<IPython.lib.display.IFrame at 0x19c85082c10>"
      ]
     },
     "execution_count": 13,
     "metadata": {},
     "output_type": "execute_result"
    }
   ],
   "source": [
    "# Histograma um do lado do outro\n",
    "df.iplot(kind='histogram', subplots=True, shape=(1,3), filename='Histograma-mult-sub-shape2')"
   ]
  },
  {
   "cell_type": "markdown",
   "id": "a0da3fce",
   "metadata": {},
   "source": [
    "### Bosplots"
   ]
  },
  {
   "cell_type": "code",
   "execution_count": 14,
   "id": "c84877af",
   "metadata": {},
   "outputs": [
    {
     "data": {
      "text/html": [
       "\n",
       "        <iframe\n",
       "            width=\"100%\"\n",
       "            height=\"525px\"\n",
       "            src=\"https://plotly.com/~K_Gill/58.embed\"\n",
       "            frameborder=\"0\"\n",
       "            allowfullscreen\n",
       "            \n",
       "        ></iframe>\n",
       "        "
      ],
      "text/plain": [
       "<IPython.lib.display.IFrame at 0x19c84a8ea00>"
      ]
     },
     "execution_count": 14,
     "metadata": {},
     "output_type": "execute_result"
    }
   ],
   "source": [
    "df.iplot(kind='box', filename='boxplots')"
   ]
  },
  {
   "cell_type": "markdown",
   "id": "17cf1c4d",
   "metadata": {},
   "source": [
    "### Scatter Plots"
   ]
  },
  {
   "cell_type": "code",
   "execution_count": 15,
   "id": "b198811d",
   "metadata": {},
   "outputs": [
    {
     "data": {
      "text/html": [
       "\n",
       "        <iframe\n",
       "            width=\"100%\"\n",
       "            height=\"525px\"\n",
       "            src=\"https://plotly.com/~K_Gill/60.embed\"\n",
       "            frameborder=\"0\"\n",
       "            allowfullscreen\n",
       "            \n",
       "        ></iframe>\n",
       "        "
      ],
      "text/plain": [
       "<IPython.lib.display.IFrame at 0x19c84fd0b20>"
      ]
     },
     "execution_count": 15,
     "metadata": {},
     "output_type": "execute_result"
    }
   ],
   "source": [
    "fig = {\n",
    "    'data': [\n",
    "        {'x': df.mpg, 'y':df.disp, 'mode':'markers', 'name':'mpg'},\n",
    "        {'x': df.hp, 'y': df.disp, 'mode':'markers', 'name':'hp'}\n",
    "    ],\n",
    "    'layout':{\n",
    "        'xaxis':{'title':''},\n",
    "        'yaxis':{'title':'Deslocamento Padronizado'}\n",
    "    }\n",
    "}\n",
    "\n",
    "chy.iplot(fig, filename='scatter-mpg-hp')"
   ]
  }
 ],
 "metadata": {
  "kernelspec": {
   "display_name": "Python 3 (ipykernel)",
   "language": "python",
   "name": "python3"
  },
  "language_info": {
   "codemirror_mode": {
    "name": "ipython",
    "version": 3
   },
   "file_extension": ".py",
   "mimetype": "text/x-python",
   "name": "python",
   "nbconvert_exporter": "python",
   "pygments_lexer": "ipython3",
   "version": "3.9.7"
  }
 },
 "nbformat": 4,
 "nbformat_minor": 5
}
